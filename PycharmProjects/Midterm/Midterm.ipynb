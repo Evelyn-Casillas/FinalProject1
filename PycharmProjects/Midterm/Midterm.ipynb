{
 "cells": [
  {
   "cell_type": "code",
   "id": "36b01a9f-1464-4f99-9d72-0c691575bdda",
   "metadata": {
    "ExecuteTime": {
     "end_time": "2025-02-18T00:12:44.124487Z",
     "start_time": "2025-02-18T00:12:43.005858Z"
    }
   },
   "source": "!pip install kagglehub\n",
   "outputs": [
    {
     "name": "stdout",
     "output_type": "stream",
     "text": [
      "Requirement already satisfied: kagglehub in ./.venv/lib/python3.12/site-packages (0.3.8)\r\n",
      "Requirement already satisfied: packaging in ./.venv/lib/python3.12/site-packages (from kagglehub) (24.2)\r\n",
      "Requirement already satisfied: requests in ./.venv/lib/python3.12/site-packages (from kagglehub) (2.32.3)\r\n",
      "Requirement already satisfied: tqdm in ./.venv/lib/python3.12/site-packages (from kagglehub) (4.67.1)\r\n",
      "Requirement already satisfied: charset-normalizer<4,>=2 in ./.venv/lib/python3.12/site-packages (from requests->kagglehub) (3.4.1)\r\n",
      "Requirement already satisfied: idna<4,>=2.5 in ./.venv/lib/python3.12/site-packages (from requests->kagglehub) (3.10)\r\n",
      "Requirement already satisfied: urllib3<3,>=1.21.1 in ./.venv/lib/python3.12/site-packages (from requests->kagglehub) (2.3.0)\r\n",
      "Requirement already satisfied: certifi>=2017.4.17 in ./.venv/lib/python3.12/site-packages (from requests->kagglehub) (2025.1.31)\r\n",
      "\r\n",
      "\u001B[1m[\u001B[0m\u001B[34;49mnotice\u001B[0m\u001B[1;39;49m]\u001B[0m\u001B[39;49m A new release of pip is available: \u001B[0m\u001B[31;49m23.2.1\u001B[0m\u001B[39;49m -> \u001B[0m\u001B[32;49m25.0.1\u001B[0m\r\n",
      "\u001B[1m[\u001B[0m\u001B[34;49mnotice\u001B[0m\u001B[1;39;49m]\u001B[0m\u001B[39;49m To update, run: \u001B[0m\u001B[32;49mpip install --upgrade pip\u001B[0m\r\n"
     ]
    }
   ],
   "execution_count": 4
  },
  {
   "cell_type": "code",
   "id": "0d592c94-e822-4789-8b26-c85e1ca6406b",
   "metadata": {
    "ExecuteTime": {
     "end_time": "2025-02-18T00:12:52.043104Z",
     "start_time": "2025-02-18T00:12:51.006269Z"
    }
   },
   "source": "!pip install --upgrade xgboost",
   "outputs": [
    {
     "name": "stdout",
     "output_type": "stream",
     "text": [
      "Requirement already satisfied: xgboost in ./.venv/lib/python3.12/site-packages (2.1.4)\r\n",
      "Requirement already satisfied: numpy in ./.venv/lib/python3.12/site-packages (from xgboost) (2.2.3)\r\n",
      "Requirement already satisfied: scipy in ./.venv/lib/python3.12/site-packages (from xgboost) (1.15.2)\r\n",
      "\r\n",
      "\u001B[1m[\u001B[0m\u001B[34;49mnotice\u001B[0m\u001B[1;39;49m]\u001B[0m\u001B[39;49m A new release of pip is available: \u001B[0m\u001B[31;49m23.2.1\u001B[0m\u001B[39;49m -> \u001B[0m\u001B[32;49m25.0.1\u001B[0m\r\n",
      "\u001B[1m[\u001B[0m\u001B[34;49mnotice\u001B[0m\u001B[1;39;49m]\u001B[0m\u001B[39;49m To update, run: \u001B[0m\u001B[32;49mpip install --upgrade pip\u001B[0m\r\n"
     ]
    }
   ],
   "execution_count": 5
  },
  {
   "cell_type": "code",
   "id": "28d36342-adfb-4188-ae9d-8c705633575a",
   "metadata": {
    "ExecuteTime": {
     "end_time": "2025-02-18T00:14:01.136197Z",
     "start_time": "2025-02-18T00:14:00.780603Z"
    }
   },
   "source": [
    "import kagglehub\n",
    "\n",
    "path = kagglehub.dataset_download(\"spscientist/students-performance-in-exams\")\n",
    "\n",
    "print(\"Path to dataset files:\", path)"
   ],
   "outputs": [
    {
     "name": "stdout",
     "output_type": "stream",
     "text": [
      "Path to dataset files: /Users/evelyncasillas/.cache/kagglehub/datasets/spscientist/students-performance-in-exams/versions/1\n"
     ]
    }
   ],
   "execution_count": 7
  },
  {
   "cell_type": "code",
   "id": "ea9d8461-6960-43f6-883e-d0e9f13b01db",
   "metadata": {
    "ExecuteTime": {
     "end_time": "2025-02-18T00:15:35.212525Z",
     "start_time": "2025-02-18T00:15:35.206902Z"
    }
   },
   "source": [
    "import os\n",
    "\n",
    " # Set the directory path here\n",
    "files = os.listdir(path)\n",
    "\n",
    "print(\"Files in dataset directory:\", files)"
   ],
   "outputs": [
    {
     "name": "stdout",
     "output_type": "stream",
     "text": [
      "Files in dataset directory: ['StudentsPerformance.csv']\n"
     ]
    }
   ],
   "execution_count": 10
  },
  {
   "cell_type": "code",
   "id": "dc2ff4f6-1aee-42ff-aeda-a99dafc3d8d0",
   "metadata": {
    "ExecuteTime": {
     "end_time": "2025-02-18T00:16:49.810808Z",
     "start_time": "2025-02-18T00:16:49.785517Z"
    }
   },
   "source": [
    "import pandas as pd\n",
    "\n",
    "csv_file_path = os.path.join(path, 'StudentsPerformance.csv')\n",
    "\n",
    "data = pd.read_csv(csv_file_path)"
   ],
   "outputs": [],
   "execution_count": 17
  },
  {
   "cell_type": "code",
   "id": "fb8483a5-e8dc-423f-80ea-4c27745ec94b",
   "metadata": {
    "ExecuteTime": {
     "end_time": "2025-02-18T00:16:54.694389Z",
     "start_time": "2025-02-18T00:16:54.690974Z"
    }
   },
   "source": [
    "print(data.head())"
   ],
   "outputs": [
    {
     "name": "stdout",
     "output_type": "stream",
     "text": [
      "   gender race/ethnicity parental level of education         lunch  \\\n",
      "0  female        group B           bachelor's degree      standard   \n",
      "1  female        group C                some college      standard   \n",
      "2  female        group B             master's degree      standard   \n",
      "3    male        group A          associate's degree  free/reduced   \n",
      "4    male        group C                some college      standard   \n",
      "\n",
      "  test preparation course  math score  reading score  writing score  \n",
      "0                    none          72             72             74  \n",
      "1               completed          69             90             88  \n",
      "2                    none          90             95             93  \n",
      "3                    none          47             57             44  \n",
      "4                    none          76             78             75  \n"
     ]
    }
   ],
   "execution_count": 18
  },
  {
   "cell_type": "code",
   "id": "3a0faf5f-99d1-4326-a7ef-c4215ed6d20a",
   "metadata": {
    "ExecuteTime": {
     "end_time": "2025-02-18T00:16:56.971537Z",
     "start_time": "2025-02-18T00:16:56.955438Z"
    }
   },
   "source": [
    "data.shape"
   ],
   "outputs": [
    {
     "data": {
      "text/plain": [
       "(1000, 8)"
      ]
     },
     "execution_count": 19,
     "metadata": {},
     "output_type": "execute_result"
    }
   ],
   "execution_count": 19
  },
  {
   "cell_type": "code",
   "id": "6fe18189-4c46-4d07-a306-9939395bf99b",
   "metadata": {
    "ExecuteTime": {
     "end_time": "2025-02-18T00:16:58.310950Z",
     "start_time": "2025-02-18T00:16:58.296280Z"
    }
   },
   "source": [
    "data.info()"
   ],
   "outputs": [
    {
     "name": "stdout",
     "output_type": "stream",
     "text": [
      "<class 'pandas.core.frame.DataFrame'>\n",
      "RangeIndex: 1000 entries, 0 to 999\n",
      "Data columns (total 8 columns):\n",
      " #   Column                       Non-Null Count  Dtype \n",
      "---  ------                       --------------  ----- \n",
      " 0   gender                       1000 non-null   object\n",
      " 1   race/ethnicity               1000 non-null   object\n",
      " 2   parental level of education  1000 non-null   object\n",
      " 3   lunch                        1000 non-null   object\n",
      " 4   test preparation course      1000 non-null   object\n",
      " 5   math score                   1000 non-null   int64 \n",
      " 6   reading score                1000 non-null   int64 \n",
      " 7   writing score                1000 non-null   int64 \n",
      "dtypes: int64(3), object(5)\n",
      "memory usage: 62.6+ KB\n"
     ]
    }
   ],
   "execution_count": 20
  },
  {
   "cell_type": "code",
   "id": "e075de18-8a4e-4569-9f1f-562b26c360a4",
   "metadata": {
    "ExecuteTime": {
     "end_time": "2025-02-18T00:17:00.048813Z",
     "start_time": "2025-02-18T00:17:00.038269Z"
    }
   },
   "source": [
    "data.describe()"
   ],
   "outputs": [
    {
     "data": {
      "text/plain": [
       "       math score  reading score  writing score\n",
       "count  1000.00000    1000.000000    1000.000000\n",
       "mean     66.08900      69.169000      68.054000\n",
       "std      15.16308      14.600192      15.195657\n",
       "min       0.00000      17.000000      10.000000\n",
       "25%      57.00000      59.000000      57.750000\n",
       "50%      66.00000      70.000000      69.000000\n",
       "75%      77.00000      79.000000      79.000000\n",
       "max     100.00000     100.000000     100.000000"
      ],
      "text/html": [
       "<div>\n",
       "<style scoped>\n",
       "    .dataframe tbody tr th:only-of-type {\n",
       "        vertical-align: middle;\n",
       "    }\n",
       "\n",
       "    .dataframe tbody tr th {\n",
       "        vertical-align: top;\n",
       "    }\n",
       "\n",
       "    .dataframe thead th {\n",
       "        text-align: right;\n",
       "    }\n",
       "</style>\n",
       "<table border=\"1\" class=\"dataframe\">\n",
       "  <thead>\n",
       "    <tr style=\"text-align: right;\">\n",
       "      <th></th>\n",
       "      <th>math score</th>\n",
       "      <th>reading score</th>\n",
       "      <th>writing score</th>\n",
       "    </tr>\n",
       "  </thead>\n",
       "  <tbody>\n",
       "    <tr>\n",
       "      <th>count</th>\n",
       "      <td>1000.00000</td>\n",
       "      <td>1000.000000</td>\n",
       "      <td>1000.000000</td>\n",
       "    </tr>\n",
       "    <tr>\n",
       "      <th>mean</th>\n",
       "      <td>66.08900</td>\n",
       "      <td>69.169000</td>\n",
       "      <td>68.054000</td>\n",
       "    </tr>\n",
       "    <tr>\n",
       "      <th>std</th>\n",
       "      <td>15.16308</td>\n",
       "      <td>14.600192</td>\n",
       "      <td>15.195657</td>\n",
       "    </tr>\n",
       "    <tr>\n",
       "      <th>min</th>\n",
       "      <td>0.00000</td>\n",
       "      <td>17.000000</td>\n",
       "      <td>10.000000</td>\n",
       "    </tr>\n",
       "    <tr>\n",
       "      <th>25%</th>\n",
       "      <td>57.00000</td>\n",
       "      <td>59.000000</td>\n",
       "      <td>57.750000</td>\n",
       "    </tr>\n",
       "    <tr>\n",
       "      <th>50%</th>\n",
       "      <td>66.00000</td>\n",
       "      <td>70.000000</td>\n",
       "      <td>69.000000</td>\n",
       "    </tr>\n",
       "    <tr>\n",
       "      <th>75%</th>\n",
       "      <td>77.00000</td>\n",
       "      <td>79.000000</td>\n",
       "      <td>79.000000</td>\n",
       "    </tr>\n",
       "    <tr>\n",
       "      <th>max</th>\n",
       "      <td>100.00000</td>\n",
       "      <td>100.000000</td>\n",
       "      <td>100.000000</td>\n",
       "    </tr>\n",
       "  </tbody>\n",
       "</table>\n",
       "</div>"
      ]
     },
     "execution_count": 21,
     "metadata": {},
     "output_type": "execute_result"
    }
   ],
   "execution_count": 21
  },
  {
   "cell_type": "code",
   "id": "67f4adae-d0df-4ff9-89b3-4f0d7eeb96f2",
   "metadata": {
    "ExecuteTime": {
     "end_time": "2025-02-18T00:17:02.614139Z",
     "start_time": "2025-02-18T00:17:02.610020Z"
    }
   },
   "source": [
    "#No missing variables\n",
    "data.isnull().sum()"
   ],
   "outputs": [
    {
     "data": {
      "text/plain": [
       "gender                         0\n",
       "race/ethnicity                 0\n",
       "parental level of education    0\n",
       "lunch                          0\n",
       "test preparation course        0\n",
       "math score                     0\n",
       "reading score                  0\n",
       "writing score                  0\n",
       "dtype: int64"
      ]
     },
     "execution_count": 22,
     "metadata": {},
     "output_type": "execute_result"
    }
   ],
   "execution_count": 22
  },
  {
   "cell_type": "code",
   "id": "36f271cd-8900-4d5a-ade3-1ed4a514d5bc",
   "metadata": {
    "ExecuteTime": {
     "end_time": "2025-02-18T00:17:34.164854Z",
     "start_time": "2025-02-18T00:17:34.090071Z"
    }
   },
   "source": [
    "import seaborn as sns\n",
    "\n",
    "print('Histogram of race/ethnicity')\n",
    "sns.displot(data=data['race/ethnicity'])"
   ],
   "outputs": [
    {
     "name": "stdout",
     "output_type": "stream",
     "text": [
      "Histogram of race/ethnicity\n"
     ]
    },
    {
     "data": {
      "text/plain": [
       "<seaborn.axisgrid.FacetGrid at 0x1240687a0>"
      ]
     },
     "execution_count": 25,
     "metadata": {},
     "output_type": "execute_result"
    },
    {
     "data": {
      "text/plain": [
       "<Figure size 500x500 with 1 Axes>"
      ],
      "image/png": "[encoded data removed]"
     },
     "metadata": {},
     "output_type": "display_data"
    }
   ],
   "execution_count": 25
  },
  {
   "cell_type": "code",
   "id": "5e944b79-82c7-4bd7-ac56-54ab69845d34",
   "metadata": {
    "ExecuteTime": {
     "end_time": "2025-02-18T00:17:36.326522Z",
     "start_time": "2025-02-18T00:17:36.243082Z"
    }
   },
   "source": [
    "print('Histogram of math score')\n",
    "sns.displot(data=data['math score'])"
   ],
   "outputs": [
    {
     "name": "stdout",
     "output_type": "stream",
     "text": [
      "Histogram of math score\n"
     ]
    },
    {
     "data": {
      "text/plain": [
       "<seaborn.axisgrid.FacetGrid at 0x1240938c0>"
      ]
     },
     "execution_count": 26,
     "metadata": {},
     "output_type": "execute_result"
    },
    {
     "data": {
      "text/plain": [
       "<Figure size 500x500 with 1 Axes>"
      ],
      "image/png": "[encoded data removed]"
     },
     "metadata": {},
     "output_type": "display_data"
    }
   ],
   "execution_count": 26
  },
  {
   "cell_type": "code",
   "id": "a11840c8-1ed4-4c33-ab36-388b3f04b17c",
   "metadata": {
    "ExecuteTime": {
     "end_time": "2025-02-18T00:17:39.520671Z",
     "start_time": "2025-02-18T00:17:39.483624Z"
    }
   },
   "source": [
    "#Boxplot for math scores\n",
    "\n",
    "import matplotlib.pyplot as plt\n",
    "\n",
    "sns.boxplot(x='math score', data=data)\n",
    "\n",
    "plt.show()\n",
    "\n"
   ],
   "outputs": [
    {
     "data": {
      "text/plain": [
       "<Figure size 640x480 with 1 Axes>"
      ],
      "image/png": "[encoded data removed]"
     },
     "metadata": {},
     "output_type": "display_data"
    }
   ],
   "execution_count": 27
  },
  {
   "cell_type": "code",
   "id": "4c9014c2-4cb8-4295-8c13-0173b38cb60f",
   "metadata": {
    "ExecuteTime": {
     "end_time": "2025-02-18T00:17:41.709859Z",
     "start_time": "2025-02-18T00:17:41.625242Z"
    }
   },
   "source": [
    "print('Histogram of reading score')\n",
    "sns.displot(data=data['reading score'])"
   ],
   "outputs": [
    {
     "name": "stdout",
     "output_type": "stream",
     "text": [
      "Histogram of reading score\n"
     ]
    },
    {
     "data": {
      "text/plain": [
       "<seaborn.axisgrid.FacetGrid at 0x124307fb0>"
      ]
     },
     "execution_count": 28,
     "metadata": {},
     "output_type": "execute_result"
    },
    {
     "data": {
      "text/plain": [
       "<Figure size 500x500 with 1 Axes>"
      ],
      "image/png": "[encoded data removed]"
     },
     "metadata": {},
     "output_type": "display_data"
    }
   ],
   "execution_count": 28
  },
  {
   "cell_type": "code",
   "id": "03277433-24b1-45de-ba77-439628cd1faf",
   "metadata": {
    "ExecuteTime": {
     "end_time": "2025-02-18T00:17:43.654185Z",
     "start_time": "2025-02-18T00:17:43.614794Z"
    }
   },
   "source": [
    "#Boxplot for reading scores\n",
    "\n",
    "\n",
    "sns.boxplot(x='reading score', data=data)\n",
    "\n",
    "plt.show()\n"
   ],
   "outputs": [
    {
     "data": {
      "text/plain": [
       "<Figure size 640x480 with 1 Axes>"
      ],
      "image/png": "[encoded data removed]"
     },
     "metadata": {},
     "output_type": "display_data"
    }
   ],
   "execution_count": 29
  },
  {
   "cell_type": "code",
   "id": "cec6b460-fd21-434e-8b90-8f11e9580e7e",
   "metadata": {
    "ExecuteTime": {
     "end_time": "2025-02-18T00:17:55.288764Z",
     "start_time": "2025-02-18T00:17:55.279105Z"
    }
   },
   "source": [
    " import pandas as pd\n",
    "\n",
    "numeric_columns = data.select_dtypes(include=['number']).columns\n",
    "\n",
    "mask = pd.Series([True] * len(data))\n",
    "\n",
    "for column in numeric_columns:\n",
    "    Q1 = data[column].quantile(0.25)\n",
    "    Q3 = data[column].quantile(0.75)\n",
    "    IQR = Q3 - Q1\n",
    "\n",
    "    column_mask = (data[column] >= (Q1 - 1.5 * IQR)) & (data[column] <= (Q3 + 1.5 * IQR))\n",
    "    \n",
    "    mask &= column_mask\n",
    "\n",
    "df_no_outliers = data[mask]\n",
    "\n",
    "print(df_no_outliers)\n"
   ],
   "outputs": [
    {
     "name": "stdout",
     "output_type": "stream",
     "text": [
      "     gender race/ethnicity parental level of education         lunch  \\\n",
      "0    female        group B           bachelor's degree      standard   \n",
      "1    female        group C                some college      standard   \n",
      "2    female        group B             master's degree      standard   \n",
      "3      male        group A          associate's degree  free/reduced   \n",
      "4      male        group C                some college      standard   \n",
      "..      ...            ...                         ...           ...   \n",
      "995  female        group E             master's degree      standard   \n",
      "996    male        group C                 high school  free/reduced   \n",
      "997  female        group C                 high school  free/reduced   \n",
      "998  female        group D                some college      standard   \n",
      "999  female        group D                some college  free/reduced   \n",
      "\n",
      "    test preparation course  math score  reading score  writing score  \n",
      "0                      none          72             72             74  \n",
      "1                 completed          69             90             88  \n",
      "2                      none          90             95             93  \n",
      "3                      none          47             57             44  \n",
      "4                      none          76             78             75  \n",
      "..                      ...         ...            ...            ...  \n",
      "995               completed          88             99             95  \n",
      "996                    none          62             55             55  \n",
      "997               completed          59             71             65  \n",
      "998               completed          68             78             77  \n",
      "999                    none          77             86             86  \n",
      "\n",
      "[988 rows x 8 columns]\n"
     ]
    }
   ],
   "execution_count": 32
  },
  {
   "cell_type": "code",
   "id": "9fd44be8-6b29-4c9b-8141-37df75ee5ccc",
   "metadata": {
    "ExecuteTime": {
     "end_time": "2025-02-18T00:17:59.339929Z",
     "start_time": "2025-02-18T00:17:59.248696Z"
    }
   },
   "source": [
    "print('Histogram of writing score')\n",
    "sns.displot(data=df_no_outliers['writing score'])"
   ],
   "outputs": [
    {
     "name": "stdout",
     "output_type": "stream",
     "text": [
      "Histogram of writing score\n"
     ]
    },
    {
     "data": {
      "text/plain": [
       "<seaborn.axisgrid.FacetGrid at 0x1243d5d90>"
      ]
     },
     "execution_count": 33,
     "metadata": {},
     "output_type": "execute_result"
    },
    {
     "data": {
      "text/plain": [
       "<Figure size 500x500 with 1 Axes>"
      ],
      "image/png": "[encoded data removed]"
     },
     "metadata": {},
     "output_type": "display_data"
    }
   ],
   "execution_count": 33
  },
  {
   "cell_type": "code",
   "id": "113fa6ee-2aaa-4091-b81b-b7a6b5c6c5c4",
   "metadata": {
    "ExecuteTime": {
     "end_time": "2025-02-18T00:18:02.096509Z",
     "start_time": "2025-02-18T00:18:02.050682Z"
    }
   },
   "source": [
    "#Boxplot for writing scores\n",
    "\n",
    "\n",
    "sns.boxplot(x='writing score', data=df_no_outliers)\n",
    "\n",
    "plt.show()\n"
   ],
   "outputs": [
    {
     "data": {
      "text/plain": [
       "<Figure size 640x480 with 1 Axes>"
      ],
      "image/png": "[encoded data removed]"
     },
     "metadata": {},
     "output_type": "display_data"
    }
   ],
   "execution_count": 34
  },
  {
   "cell_type": "code",
   "id": "6bc23e43-c2df-491a-9bf3-6050f9048b86",
   "metadata": {
    "ExecuteTime": {
     "end_time": "2025-02-18T00:18:04.168415Z",
     "start_time": "2025-02-18T00:18:04.161203Z"
    }
   },
   "source": [
    "num_vars = ['reading score', 'writing score', 'math score']\n",
    "df_cat = df_no_outliers.drop(num_vars, axis = 1)\n",
    "for col in list(df_cat):\n",
    "  print(\"\\n\", data[col].value_counts(dropna=False).to_string())"
   ],
   "outputs": [
    {
     "name": "stdout",
     "output_type": "stream",
     "text": [
      "\n",
      " gender\n",
      "female    518\n",
      "male      482\n",
      "\n",
      " race/ethnicity\n",
      "group C    319\n",
      "group D    262\n",
      "group B    190\n",
      "group E    140\n",
      "group A     89\n",
      "\n",
      " parental level of education\n",
      "some college          226\n",
      "associate's degree    222\n",
      "high school           196\n",
      "some high school      179\n",
      "bachelor's degree     118\n",
      "master's degree        59\n",
      "\n",
      " lunch\n",
      "standard        645\n",
      "free/reduced    355\n",
      "\n",
      " test preparation course\n",
      "none         642\n",
      "completed    358\n"
     ]
    }
   ],
   "execution_count": 35
  },
  {
   "cell_type": "code",
   "id": "cc648da2-483f-434f-a156-889704724bc7",
   "metadata": {
    "ExecuteTime": {
     "end_time": "2025-02-18T00:18:07.504570Z",
     "start_time": "2025-02-18T00:18:07.498768Z"
    }
   },
   "source": [
    "data_filtered = df_no_outliers\n",
    "\n",
    "data_filtered.head()"
   ],
   "outputs": [
    {
     "data": {
      "text/plain": [
       "   gender race/ethnicity parental level of education         lunch  \\\n",
       "0  female        group B           bachelor's degree      standard   \n",
       "1  female        group C                some college      standard   \n",
       "2  female        group B             master's degree      standard   \n",
       "3    male        group A          associate's degree  free/reduced   \n",
       "4    male        group C                some college      standard   \n",
       "\n",
       "  test preparation course  math score  reading score  writing score  \n",
       "0                    none          72             72             74  \n",
       "1               completed          69             90             88  \n",
       "2                    none          90             95             93  \n",
       "3                    none          47             57             44  \n",
       "4                    none          76             78             75  "
      ],
      "text/html": [
       "<div>\n",
       "<style scoped>\n",
       "    .dataframe tbody tr th:only-of-type {\n",
       "        vertical-align: middle;\n",
       "    }\n",
       "\n",
       "    .dataframe tbody tr th {\n",
       "        vertical-align: top;\n",
       "    }\n",
       "\n",
       "    .dataframe thead th {\n",
       "        text-align: right;\n",
       "    }\n",
       "</style>\n",
       "<table border=\"1\" class=\"dataframe\">\n",
       "  <thead>\n",
       "    <tr style=\"text-align: right;\">\n",
       "      <th></th>\n",
       "      <th>gender</th>\n",
       "      <th>race/ethnicity</th>\n",
       "      <th>parental level of education</th>\n",
       "      <th>lunch</th>\n",
       "      <th>test preparation course</th>\n",
       "      <th>math score</th>\n",
       "      <th>reading score</th>\n",
       "      <th>writing score</th>\n",
       "    </tr>\n",
       "  </thead>\n",
       "  <tbody>\n",
       "    <tr>\n",
       "      <th>0</th>\n",
       "      <td>female</td>\n",
       "      <td>group B</td>\n",
       "      <td>bachelor's degree</td>\n",
       "      <td>standard</td>\n",
       "      <td>none</td>\n",
       "      <td>72</td>\n",
       "      <td>72</td>\n",
       "      <td>74</td>\n",
       "    </tr>\n",
       "    <tr>\n",
       "      <th>1</th>\n",
       "      <td>female</td>\n",
       "      <td>group C</td>\n",
       "      <td>some college</td>\n",
       "      <td>standard</td>\n",
       "      <td>completed</td>\n",
       "      <td>69</td>\n",
       "      <td>90</td>\n",
       "      <td>88</td>\n",
       "    </tr>\n",
       "    <tr>\n",
       "      <th>2</th>\n",
       "      <td>female</td>\n",
       "      <td>group B</td>\n",
       "      <td>master's degree</td>\n",
       "      <td>standard</td>\n",
       "      <td>none</td>\n",
       "      <td>90</td>\n",
       "      <td>95</td>\n",
       "      <td>93</td>\n",
       "    </tr>\n",
       "    <tr>\n",
       "      <th>3</th>\n",
       "      <td>male</td>\n",
       "      <td>group A</td>\n",
       "      <td>associate's degree</td>\n",
       "      <td>free/reduced</td>\n",
       "      <td>none</td>\n",
       "      <td>47</td>\n",
       "      <td>57</td>\n",
       "      <td>44</td>\n",
       "    </tr>\n",
       "    <tr>\n",
       "      <th>4</th>\n",
       "      <td>male</td>\n",
       "      <td>group C</td>\n",
       "      <td>some college</td>\n",
       "      <td>standard</td>\n",
       "      <td>none</td>\n",
       "      <td>76</td>\n",
       "      <td>78</td>\n",
       "      <td>75</td>\n",
       "    </tr>\n",
       "  </tbody>\n",
       "</table>\n",
       "</div>"
      ]
     },
     "execution_count": 36,
     "metadata": {},
     "output_type": "execute_result"
    }
   ],
   "execution_count": 36
  },
  {
   "cell_type": "code",
   "id": "021b70d5-ba7e-4fe1-9fc1-f17ccd452b01",
   "metadata": {
    "ExecuteTime": {
     "end_time": "2025-02-18T00:18:09.718252Z",
     "start_time": "2025-02-18T00:18:09.710138Z"
    }
   },
   "source": [
    "print(data_filtered.describe())\n"
   ],
   "outputs": [
    {
     "name": "stdout",
     "output_type": "stream",
     "text": [
      "       math score  reading score  writing score\n",
      "count  988.000000     988.000000     988.000000\n",
      "mean    66.625506      69.640688      68.566802\n",
      "std     14.409394      14.016760      14.525267\n",
      "min     27.000000      29.000000      27.000000\n",
      "25%     57.000000      60.000000      58.000000\n",
      "50%     66.000000      70.000000      69.000000\n",
      "75%     77.000000      80.000000      79.000000\n",
      "max    100.000000     100.000000     100.000000\n"
     ]
    }
   ],
   "execution_count": 37
  },
  {
   "cell_type": "code",
   "id": "b4a55e7b-a695-4c26-a25a-ed81a89ffbc2",
   "metadata": {
    "ExecuteTime": {
     "end_time": "2025-02-18T00:18:12.051351Z",
     "start_time": "2025-02-18T00:18:12.038Z"
    }
   },
   "source": [
    "# Use One Hot Encoding to turn categorical variables with 3+ values into dummy variables: \n",
    "\n",
    "df_encod = pd.get_dummies(data_filtered, columns=['parental level of education'])\n",
    "\n",
    "df_encod[df_encod.select_dtypes(bool).columns] = df_encod.select_dtypes(bool).apply(lambda x: x.astype(int))\n",
    "\n",
    "\n",
    "df_encod.describe()\n",
    "\n",
    "df_encod.shape"
   ],
   "outputs": [
    {
     "data": {
      "text/plain": [
       "(988, 13)"
      ]
     },
     "execution_count": 38,
     "metadata": {},
     "output_type": "execute_result"
    }
   ],
   "execution_count": 38
  },
  {
   "cell_type": "code",
   "id": "1566e9e5-77a2-4eac-965b-d84c65b0a095",
   "metadata": {
    "ExecuteTime": {
     "end_time": "2025-02-18T00:18:14.769185Z",
     "start_time": "2025-02-18T00:18:14.764943Z"
    }
   },
   "source": [
    "dataone = df_encod\n",
    "\n",
    "dataone.shape"
   ],
   "outputs": [
    {
     "data": {
      "text/plain": [
       "(988, 13)"
      ]
     },
     "execution_count": 39,
     "metadata": {},
     "output_type": "execute_result"
    }
   ],
   "execution_count": 39
  },
  {
   "cell_type": "code",
   "id": "c8cab518-0963-491b-a2e9-e207369ff26a",
   "metadata": {
    "ExecuteTime": {
     "end_time": "2025-02-18T00:19:45.617299Z",
     "start_time": "2025-02-18T00:19:41.429980Z"
    }
   },
   "source": [
    "from sklearn.preprocessing import LabelEncoder\n",
    "\n",
    "le = LabelEncoder()\n",
    "\n",
    "dataone['race/ethnicity_num'] = le.fit_transform(df_encod['race/ethnicity'])\n",
    "\n",
    "print(dataone['race/ethnicity_num'].describe())\n",
    "\n",
    "dataone.describe()\n"
   ],
   "outputs": [
    {
     "name": "stdout",
     "output_type": "stream",
     "text": [
      "count    988.000000\n",
      "mean       2.181174\n",
      "std        1.156704\n",
      "min        0.000000\n",
      "25%        1.000000\n",
      "50%        2.000000\n",
      "75%        3.000000\n",
      "max        4.000000\n",
      "Name: race/ethnicity_num, dtype: float64\n"
     ]
    },
    {
     "data": {
      "text/plain": [
       "       math score  reading score  writing score  \\\n",
       "count  988.000000     988.000000     988.000000   \n",
       "mean    66.625506      69.640688      68.566802   \n",
       "std     14.409394      14.016760      14.525267   \n",
       "min     27.000000      29.000000      27.000000   \n",
       "25%     57.000000      60.000000      58.000000   \n",
       "50%     66.000000      70.000000      69.000000   \n",
       "75%     77.000000      80.000000      79.000000   \n",
       "max    100.000000     100.000000     100.000000   \n",
       "\n",
       "       parental level of education_associate's degree  \\\n",
       "count                                      988.000000   \n",
       "mean                                         0.223684   \n",
       "std                                          0.416924   \n",
       "min                                          0.000000   \n",
       "25%                                          0.000000   \n",
       "50%                                          0.000000   \n",
       "75%                                          0.000000   \n",
       "max                                          1.000000   \n",
       "\n",
       "       parental level of education_bachelor's degree  \\\n",
       "count                                     988.000000   \n",
       "mean                                        0.119433   \n",
       "std                                         0.324462   \n",
       "min                                         0.000000   \n",
       "25%                                         0.000000   \n",
       "50%                                         0.000000   \n",
       "75%                                         0.000000   \n",
       "max                                         1.000000   \n",
       "\n",
       "       parental level of education_high school  \\\n",
       "count                               988.000000   \n",
       "mean                                  0.195344   \n",
       "std                                   0.396666   \n",
       "min                                   0.000000   \n",
       "25%                                   0.000000   \n",
       "50%                                   0.000000   \n",
       "75%                                   0.000000   \n",
       "max                                   1.000000   \n",
       "\n",
       "       parental level of education_master's degree  \\\n",
       "count                                   988.000000   \n",
       "mean                                      0.059717   \n",
       "std                                       0.237081   \n",
       "min                                       0.000000   \n",
       "25%                                       0.000000   \n",
       "50%                                       0.000000   \n",
       "75%                                       0.000000   \n",
       "max                                       1.000000   \n",
       "\n",
       "       parental level of education_some college  \\\n",
       "count                                988.000000   \n",
       "mean                                   0.224696   \n",
       "std                                    0.417594   \n",
       "min                                    0.000000   \n",
       "25%                                    0.000000   \n",
       "50%                                    0.000000   \n",
       "75%                                    0.000000   \n",
       "max                                    1.000000   \n",
       "\n",
       "       parental level of education_some high school  race/ethnicity_num  \n",
       "count                                    988.000000          988.000000  \n",
       "mean                                       0.177126            2.181174  \n",
       "std                                        0.381968            1.156704  \n",
       "min                                        0.000000            0.000000  \n",
       "25%                                        0.000000            1.000000  \n",
       "50%                                        0.000000            2.000000  \n",
       "75%                                        0.000000            3.000000  \n",
       "max                                        1.000000            4.000000  "
      ],
      "text/html": [
       "<div>\n",
       "<style scoped>\n",
       "    .dataframe tbody tr th:only-of-type {\n",
       "        vertical-align: middle;\n",
       "    }\n",
       "\n",
       "    .dataframe tbody tr th {\n",
       "        vertical-align: top;\n",
       "    }\n",
       "\n",
       "    .dataframe thead th {\n",
       "        text-align: right;\n",
       "    }\n",
       "</style>\n",
       "<table border=\"1\" class=\"dataframe\">\n",
       "  <thead>\n",
       "    <tr style=\"text-align: right;\">\n",
       "      <th></th>\n",
       "      <th>math score</th>\n",
       "      <th>reading score</th>\n",
       "      <th>writing score</th>\n",
       "      <th>parental level of education_associate's degree</th>\n",
       "      <th>parental level of education_bachelor's degree</th>\n",
       "      <th>parental level of education_high school</th>\n",
       "      <th>parental level of education_master's degree</th>\n",
       "      <th>parental level of education_some college</th>\n",
       "      <th>parental level of education_some high school</th>\n",
       "      <th>race/ethnicity_num</th>\n",
       "    </tr>\n",
       "  </thead>\n",
       "  <tbody>\n",
       "    <tr>\n",
       "      <th>count</th>\n",
       "      <td>988.000000</td>\n",
       "      <td>988.000000</td>\n",
       "      <td>988.000000</td>\n",
       "      <td>988.000000</td>\n",
       "      <td>988.000000</td>\n",
       "      <td>988.000000</td>\n",
       "      <td>988.000000</td>\n",
       "      <td>988.000000</td>\n",
       "      <td>988.000000</td>\n",
       "      <td>988.000000</td>\n",
       "    </tr>\n",
       "    <tr>\n",
       "      <th>mean</th>\n",
       "      <td>66.625506</td>\n",
       "      <td>69.640688</td>\n",
       "      <td>68.566802</td>\n",
       "      <td>0.223684</td>\n",
       "      <td>0.119433</td>\n",
       "      <td>0.195344</td>\n",
       "      <td>0.059717</td>\n",
       "      <td>0.224696</td>\n",
       "      <td>0.177126</td>\n",
       "      <td>2.181174</td>\n",
       "    </tr>\n",
       "    <tr>\n",
       "      <th>std</th>\n",
       "      <td>14.409394</td>\n",
       "      <td>14.016760</td>\n",
       "      <td>14.525267</td>\n",
       "      <td>0.416924</td>\n",
       "      <td>0.324462</td>\n",
       "      <td>0.396666</td>\n",
       "      <td>0.237081</td>\n",
       "      <td>0.417594</td>\n",
       "      <td>0.381968</td>\n",
       "      <td>1.156704</td>\n",
       "    </tr>\n",
       "    <tr>\n",
       "      <th>min</th>\n",
       "      <td>27.000000</td>\n",
       "      <td>29.000000</td>\n",
       "      <td>27.000000</td>\n",
       "      <td>0.000000</td>\n",
       "      <td>0.000000</td>\n",
       "      <td>0.000000</td>\n",
       "      <td>0.000000</td>\n",
       "      <td>0.000000</td>\n",
       "      <td>0.000000</td>\n",
       "      <td>0.000000</td>\n",
       "    </tr>\n",
       "    <tr>\n",
       "      <th>25%</th>\n",
       "      <td>57.000000</td>\n",
       "      <td>60.000000</td>\n",
       "      <td>58.000000</td>\n",
       "      <td>0.000000</td>\n",
       "      <td>0.000000</td>\n",
       "      <td>0.000000</td>\n",
       "      <td>0.000000</td>\n",
       "      <td>0.000000</td>\n",
       "      <td>0.000000</td>\n",
       "      <td>1.000000</td>\n",
       "    </tr>\n",
       "    <tr>\n",
       "      <th>50%</th>\n",
       "      <td>66.000000</td>\n",
       "      <td>70.000000</td>\n",
       "      <td>69.000000</td>\n",
       "      <td>0.000000</td>\n",
       "      <td>0.000000</td>\n",
       "      <td>0.000000</td>\n",
       "      <td>0.000000</td>\n",
       "      <td>0.000000</td>\n",
       "      <td>0.000000</td>\n",
       "      <td>2.000000</td>\n",
       "    </tr>\n",
       "    <tr>\n",
       "      <th>75%</th>\n",
       "      <td>77.000000</td>\n",
       "      <td>80.000000</td>\n",
       "      <td>79.000000</td>\n",
       "      <td>0.000000</td>\n",
       "      <td>0.000000</td>\n",
       "      <td>0.000000</td>\n",
       "      <td>0.000000</td>\n",
       "      <td>0.000000</td>\n",
       "      <td>0.000000</td>\n",
       "      <td>3.000000</td>\n",
       "    </tr>\n",
       "    <tr>\n",
       "      <th>max</th>\n",
       "      <td>100.000000</td>\n",
       "      <td>100.000000</td>\n",
       "      <td>100.000000</td>\n",
       "      <td>1.000000</td>\n",
       "      <td>1.000000</td>\n",
       "      <td>1.000000</td>\n",
       "      <td>1.000000</td>\n",
       "      <td>1.000000</td>\n",
       "      <td>1.000000</td>\n",
       "      <td>4.000000</td>\n",
       "    </tr>\n",
       "  </tbody>\n",
       "</table>\n",
       "</div>"
      ]
     },
     "execution_count": 42,
     "metadata": {},
     "output_type": "execute_result"
    }
   ],
   "execution_count": 42
  },
  {
   "cell_type": "code",
   "id": "ed6acd84-92da-4f99-9810-4d9c94e1703b",
   "metadata": {
    "ExecuteTime": {
     "end_time": "2025-02-18T00:19:48.772524Z",
     "start_time": "2025-02-18T00:19:48.764221Z"
    }
   },
   "source": [
    "df_filt = dataone.drop(['race/ethnicity'], axis = 1)\n",
    "df_filt.shape"
   ],
   "outputs": [
    {
     "data": {
      "text/plain": [
       "(988, 13)"
      ]
     },
     "execution_count": 43,
     "metadata": {},
     "output_type": "execute_result"
    }
   ],
   "execution_count": 43
  },
  {
   "cell_type": "code",
   "id": "8e81abbf-4611-4bef-a5b9-5ddb5d92d1dd",
   "metadata": {
    "ExecuteTime": {
     "end_time": "2025-02-18T00:21:07.332965Z",
     "start_time": "2025-02-18T00:21:07.325042Z"
    }
   },
   "source": [
    "#Splitting Data and only keeping reading writing and math scores for assignment\n",
    "\n",
    "\n",
    "X = df_filt.drop(columns = [\"race/ethnicity_num\", \"gender\", \"lunch\", \"test preparation course\", \n",
    "                            \"parental level of education_associate's degree\",\n",
    "                            \"parental level of education_bachelor's degree\",\n",
    "                            \"parental level of education_high school\",\n",
    "                            \"parental level of education_master's degree\",\n",
    "                            \"parental level of education_some college\",\n",
    "                            \"parental level of education_some high school\"])\n",
    "\n",
    "y = df_filt['race/ethnicity_num'].values\n",
    "\n",
    "from sklearn.model_selection import train_test_split\n",
    "\n",
    "X_train, X_test, y_train, y_test = train_test_split(X,y,test_size = 0.20, random_state = 88, stratify=y)\n",
    "\n",
    "print(\"X_train.shape: \", X_train.shape)\n",
    "print(\"y_train.shape: \", y_train.shape)\n",
    "print(\"X_test.shape: \", X_test.shape)\n",
    "print(\"y_test.shape: \", y_test.shape)\n",
    "\n"
   ],
   "outputs": [
    {
     "name": "stdout",
     "output_type": "stream",
     "text": [
      "X_train.shape:  (790, 3)\n",
      "y_train.shape:  (790,)\n",
      "X_test.shape:  (198, 3)\n",
      "y_test.shape:  (198,)\n"
     ]
    }
   ],
   "execution_count": 49
  },
  {
   "metadata": {
    "ExecuteTime": {
     "end_time": "2025-02-18T00:25:43.129698Z",
     "start_time": "2025-02-18T00:25:43.114207Z"
    }
   },
   "cell_type": "code",
   "source": [
    "\n",
    "\n",
    "Corrlelationmatrix = df_filt.drop(columns=[\"parental level of education_associate's degree\",\n",
    "                          \"parental level of education_bachelor's degree\",\n",
    "                          \"parental level of education_high school\",\n",
    "                          \"parental level of education_master's degree\",\n",
    "                          \"parental level of education_some college\",\n",
    "                          \"parental level of education_some high school\"\n",
    "                                           \"Gender\"])\n",
    "\n",
    "\n",
    "\n"
   ],
   "id": "afcb3ebe5ccc8fb8",
   "outputs": [],
   "execution_count": 53
  },
  {
   "metadata": {
    "ExecuteTime": {
     "end_time": "2025-02-18T00:30:14.420061Z",
     "start_time": "2025-02-18T00:30:14.294584Z"
    }
   },
   "cell_type": "code",
   "source": [
    "correlation_matrix = df_filt.drop(columns=[\n",
    "    \"parental level of education_associate's degree\",\n",
    "    \"parental level of education_bachelor's degree\",\n",
    "    \"parental level of education_high school\",\n",
    "    \"parental level of education_master's degree\",\n",
    "    \"parental level of education_some college\",\n",
    "    \"parental level of education_some high school\",\n",
    "    \"gender\",\n",
    "    \"lunch\",\n",
    "    \"test preparation course\"# Added missing comma here\n",
    "])\n",
    "\n",
    "# Assuming X and y are already defined, and X is the feature set\n",
    "data_clean = X.copy()\n",
    "data_clean[\"race/ethnicity_num\"] = y  # Ensure y is correctly defined\n",
    "\n",
    "# Calculate the correlation matrix\n",
    "corr_matrix = correlation_matrix.corr()\n",
    "\n",
    "# Plot the heatmap\n",
    "plt.figure(figsize=(12, 8))\n",
    "sns.heatmap(corr_matrix, annot=True, cmap=\"coolwarm\", fmt=\".2f\", linewidths=0.5)\n",
    "plt.title(\"Feature Correlation Heatmap (All Features)\")\n",
    "plt.show()"
   ],
   "id": "00f08d45-78a4-4c87-afa3-7ad419be70e0",
   "outputs": [
    {
     "data": {
      "text/plain": [
       "<Figure size 1200x800 with 2 Axes>"
      ],
      "image/png": "[encoded data removed]"
     },
     "metadata": {},
     "output_type": "display_data"
    }
   ],
   "execution_count": 59
  },
  {
   "cell_type": "code",
   "id": "e6ac54ab-da75-406a-9ba6-c3e2c0994900",
   "metadata": {
    "ExecuteTime": {
     "end_time": "2025-02-18T00:30:30.670963Z",
     "start_time": "2025-02-18T00:30:30.474398Z"
    }
   },
   "source": [
    "X.hist(bins=20, figsize=(15, 15))"
   ],
   "outputs": [
    {
     "data": {
      "text/plain": [
       "array([[<Axes: title={'center': 'math score'}>,\n",
       "        <Axes: title={'center': 'reading score'}>],\n",
       "       [<Axes: title={'center': 'writing score'}>, <Axes: >]],\n",
       "      dtype=object)"
      ]
     },
     "execution_count": 60,
     "metadata": {},
     "output_type": "execute_result"
    },
    {
     "data": {
      "text/plain": [
       "<Figure size 1500x1500 with 4 Axes>"
      ],
      "image/png": "[encoded data removed]"
     },
     "metadata": {},
     "output_type": "display_data"
    }
   ],
   "execution_count": 60
  },
  {
   "cell_type": "code",
   "id": "f8771a4e-6690-4759-83c0-89a20f3c3ec8",
   "metadata": {
    "ExecuteTime": {
     "end_time": "2025-02-18T00:48:31.236497Z",
     "start_time": "2025-02-18T00:37:38.811028Z"
    }
   },
   "source": [
    "from sklearn.model_selection import GridSearchCV\n",
    "import xgboost as xgb\n",
    "\n",
    "\n",
    "param_grid = {\n",
    "    'max_depth': [3, 6, 10],\n",
    "    'learning_rate': [0.01, 0.05, 0.1],\n",
    "    'n_estimators': [100, 200],\n",
    "    'alpha': [0, 0.1, 1],\n",
    "    'lambda': [0, 0.1, 1]\n",
    "}\n",
    "\n",
    "grid_search = GridSearchCV(estimator=xgb.XGBClassifier(), param_grid=param_grid, cv=5)\n",
    "grid_search.fit(X_train, y_train)\n",
    "\n",
    "print(f\"Best parameters: {grid_search.best_params_}\")"
   ],
   "outputs": [
    {
     "name": "stdout",
     "output_type": "stream",
     "text": [
      "Best parameters: {'alpha': 0.1, 'lambda': 0, 'learning_rate': 0.01, 'max_depth': 3, 'n_estimators': 100}\n"
     ]
    }
   ],
   "execution_count": 63
  },
  {
   "cell_type": "code",
   "id": "84cb246e-0b12-445d-8a9c-36003d7b6e43",
   "metadata": {
    "ExecuteTime": {
     "end_time": "2025-02-18T00:48:41.694799Z",
     "start_time": "2025-02-18T00:48:41.297511Z"
    }
   },
   "source": [
    "\n",
    "#XGBoost\n",
    "import xgboost\n",
    "from xgboost import XGBClassifier\n",
    "from sklearn.metrics import accuracy_score\n",
    "from xgboost import XGBRegressor\n",
    "\n",
    "\n",
    "\n",
    "\n",
    "model1 = XGBClassifier(\n",
    "    alpha=0.1,\n",
    "    reg_lambda= 0,\n",
    "    learning_rate= 0.01,\n",
    "    n_estimators=100,    \n",
    "    max_depth=3\n",
    ")\n",
    "\n",
    "model1.fit(X_train, y_train)\n",
    "\n",
    "predictions1= model1.predict(X_train)\n",
    "print('\\nTarget on Train:\\n', predictions1)\n",
    "\n",
    "accuracy_train1 = accuracy_score(y_train, predictions1) \n",
    "print('\\nTraining Accuracy:', accuracy_train1)\n",
    "\n",
    "predictions_test1= model1.predict(X_test)\n",
    "print('\\n Target on Test:\\n', predictions_test1)\n",
    "\n",
    "accuracy_test1= accuracy_score(y_test, predictions_test1)\n",
    "print('\\n Testing Accuracy:', accuracy_test1)"
   ],
   "outputs": [
    {
     "name": "stdout",
     "output_type": "stream",
     "text": [
      "\n",
      "Target on Train:\n",
      " [3 2 2 4 2 4 2 2 3 2 1 2 3 2 3 2 2 2 2 3 2 2 2 2 3 2 2 3 2 4 2 2 3 2 2 2 3\n",
      " 3 2 2 2 2 2 2 3 3 2 2 2 2 2 2 3 2 2 2 2 2 2 2 2 2 2 2 2 2 2 2 4 2 2 2 2 3\n",
      " 2 3 4 4 2 2 2 2 2 2 2 2 4 2 2 2 2 3 3 2 3 2 3 2 3 1 3 2 3 2 3 2 3 2 2 2 4\n",
      " 3 2 2 2 2 4 2 3 3 2 2 2 3 3 2 4 2 2 2 2 2 3 2 2 2 2 2 3 4 2 2 4 2 3 2 2 2\n",
      " 3 2 2 2 2 2 2 3 2 2 2 3 2 2 2 2 2 3 2 3 2 2 2 2 3 2 2 2 2 3 2 2 3 2 4 3 2\n",
      " 2 2 3 2 2 2 2 3 2 2 2 2 3 2 3 2 4 2 2 2 3 2 3 1 2 3 2 2 2 2 3 2 2 2 3 2 2\n",
      " 2 4 2 3 2 2 2 1 2 3 2 2 2 2 2 2 4 2 2 2 1 2 2 2 4 2 3 2 2 4 2 2 2 2 2 2 2\n",
      " 2 4 3 2 4 3 2 2 4 3 1 2 2 4 4 2 1 2 2 2 3 3 2 2 2 3 2 3 2 2 2 2 2 2 2 2 2\n",
      " 2 2 2 2 2 2 1 3 2 3 2 2 2 1 2 2 2 3 3 2 2 3 3 3 2 2 3 2 2 2 2 1 2 4 2 2 2\n",
      " 2 2 2 2 4 3 2 2 3 2 2 2 2 3 2 4 2 2 2 2 3 2 4 3 2 4 3 3 2 2 3 4 2 2 2 2 3\n",
      " 2 2 3 3 2 2 2 2 2 2 2 2 2 3 4 2 2 2 3 2 2 2 2 2 2 2 2 2 2 4 4 2 3 4 2 3 2\n",
      " 2 2 2 2 2 2 2 2 2 2 2 2 2 2 2 2 3 1 2 3 2 2 2 2 2 2 2 3 2 3 2 3 2 3 2 3 3\n",
      " 2 2 2 2 3 2 3 2 2 3 2 2 1 2 2 2 2 3 2 2 3 2 2 2 2 2 1 2 2 1 2 2 1 2 3 4 2\n",
      " 2 1 2 2 3 1 2 3 3 2 3 2 2 2 3 3 2 3 2 2 2 4 2 2 2 2 4 2 2 4 2 2 2 2 2 2 3\n",
      " 2 3 2 2 2 2 2 2 2 2 2 2 2 2 3 2 2 2 3 3 1 3 2 2 2 2 2 3 4 3 3 3 2 2 2 2 2\n",
      " 2 3 2 2 2 2 1 2 2 2 3 2 2 2 2 3 2 3 3 4 3 2 2 2 2 2 4 2 4 3 2 4 2 2 3 3 2\n",
      " 2 2 4 4 2 3 4 2 3 3 3 2 3 2 3 2 2 3 2 3 2 2 3 2 3 2 2 2 2 2 2 2 2 2 2 3 2\n",
      " 3 2 2 2 3 2 2 2 1 3 2 2 2 2 2 2 3 2 2 3 2 2 2 3 2 4 2 2 4 2 4 3 2 3 2 2 3\n",
      " 3 2 1 3 3 2 3 3 2 4 2 3 3 2 2 2 3 4 2 2 2 2 1 2 2 2 3 2 2 3 2 2 2 2 2 2 2\n",
      " 2 2 2 2 2 2 2 2 1 2 4 2 4 2 2 4 2 2 2 2 2 2 2 2 3 2 2 3 2 2 2 3 2 2 3 2 2\n",
      " 2 2 2 2 2 3 2 3 2 2 2 2 2 2 4 2 2 2 3 4 2 2 2 2 2 3 3 2 3 2 2 2 2 4 4 3 2\n",
      " 2 2 2 2 3 2 2 2 3 2 2 2 4]\n",
      "\n",
      "Training Accuracy: 0.3987341772151899\n",
      "\n",
      " Target on Test:\n",
      " [2 2 2 3 2 2 2 2 3 2 3 3 2 3 3 2 2 2 2 3 2 3 2 4 2 3 2 2 2 2 2 2 3 2 4 3 3\n",
      " 2 2 3 2 2 2 2 3 3 3 2 2 2 2 2 2 3 2 2 3 2 4 2 3 2 2 2 2 3 3 1 2 2 2 2 2 2\n",
      " 2 2 2 3 2 2 2 2 2 2 2 2 2 2 2 3 2 2 3 2 2 1 3 3 2 2 2 2 2 2 4 2 2 4 2 3 2\n",
      " 2 2 2 2 3 2 2 3 1 2 4 2 3 2 2 2 4 2 2 1 2 2 2 2 2 2 3 3 3 3 2 2 2 3 3 1 4\n",
      " 2 3 2 2 1 2 2 2 2 2 1 3 2 2 2 2 3 3 2 2 2 3 2 3 2 2 2 2 2 2 2 2 3 2 2 3 2\n",
      " 2 2 3 2 3 2 3 2 2 3 4 3 2]\n",
      "\n",
      " Testing Accuracy: 0.3333333333333333\n"
     ]
    }
   ],
   "execution_count": 64
  },
  {
   "metadata": {
    "ExecuteTime": {
     "end_time": "2025-02-18T00:49:29.007164Z",
     "start_time": "2025-02-18T00:49:28.889647Z"
    }
   },
   "cell_type": "code",
   "source": [
    "#Confusion Matrix\n",
    "\n",
    "from sklearn.metrics import confusion_matrix\n",
    "\n",
    "y_pred = model1.predict(X_test)\n",
    "\n",
    "cm = confusion_matrix(y_test, y_pred)\n",
    "\n",
    "print(cm)\n",
    "plt.figure(figsize=(6, 5))\n",
    "sns.heatmap(cm, annot=True, fmt='d', cmap=\"Blues\", xticklabels=[\"Class 0\", \"Class 1\"], yticklabels=[\"Class 0\", \"Class 1\"])\n",
    "plt.title(\"Confusion Matrix\")\n",
    "plt.xlabel(\"Predicted\")\n",
    "plt.ylabel(\"Actual\")\n",
    "plt.show()"
   ],
   "id": "7adeab8446942f13",
   "outputs": [
    {
     "name": "stdout",
     "output_type": "stream",
     "text": [
      "[[ 0  2 14  2  0]\n",
      " [ 0  0 25 10  2]\n",
      " [ 0  1 47 13  2]\n",
      " [ 0  1 33 16  2]\n",
      " [ 0  3 14  8  3]]\n"
     ]
    },
    {
     "data": {
      "text/plain": [
       "<Figure size 600x500 with 2 Axes>"
      ],
      "image/png": "[encoded data removed]"
     },
     "metadata": {},
     "output_type": "display_data"
    }
   ],
   "execution_count": 65
  },
  {
   "metadata": {
    "ExecuteTime": {
     "end_time": "2025-02-18T03:00:46.711437Z",
     "start_time": "2025-02-18T03:00:46.637189Z"
    }
   },
   "cell_type": "code",
   "source": [
    "import pickle\n",
    "\n",
    "save_path = \"/Users/evelyncasillas/PycharmProjects/Midterm/model1.pkl\"\n",
    "\n",
    "with open(save_path, \"wb\") as file:\n",
    "    pickle.dump(model1, file)\n",
    "\n",
    "print(f\"\\nModel saved at: {save_path}\")"
   ],
   "id": "fb78346083db9b1",
   "outputs": [
    {
     "name": "stdout",
     "output_type": "stream",
     "text": [
      "\n",
      "Model saved at: /Users/evelyncasillas/PycharmProjects/Midterm/model1.pkl\n"
     ]
    }
   ],
   "execution_count": 68
  },
  {
   "metadata": {
    "ExecuteTime": {
     "end_time": "2025-02-18T03:01:22.287575Z",
     "start_time": "2025-02-18T03:01:22.277114Z"
    }
   },
   "cell_type": "code",
   "source": [
    "file_path = os.path.abspath(\"../model1.pkl\")\n",
    "with open(file_path, \"wb\") as file:\n",
    "    pickle.dump(model1, file)\n",
    "\n",
    "print(f\"\\nModel saved at: {file_path}\")"
   ],
   "id": "6d36aa7e1144e588",
   "outputs": [
    {
     "name": "stdout",
     "output_type": "stream",
     "text": [
      "\n",
      "Model saved at: /Users/evelyncasillas/PycharmProjects/model1.pkl\n"
     ]
    }
   ],
   "execution_count": 70
  }
 ],
 "metadata": {
  "kernelspec": {
   "display_name": "Python 3 (ipykernel)",
   "language": "python",
   "name": "python3"
  },
  "language_info": {
   "codemirror_mode": {
    "name": "ipython",
    "version": 3
   },
   "file_extension": ".py",
   "mimetype": "text/x-python",
   "name": "python",
   "nbconvert_exporter": "python",
   "pygments_lexer": "ipython3",
   "version": "3.12.4"
  }
 },
 "nbformat": 4,
 "nbformat_minor": 5
}
